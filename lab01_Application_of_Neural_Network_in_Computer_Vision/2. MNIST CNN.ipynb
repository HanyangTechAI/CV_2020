{
 "cells": [
  {
   "cell_type": "markdown",
   "metadata": {},
   "source": [
    "### 2. MNIST CNN\n",
    "\n",
    "이번엔 학습해볼 데이터를 바꿔볼게요.\n",
    "MNIST라는 0부터 9까지의 손글씨를 담고 있는 데이터셋이에요.  \n",
    "우리가 이번에 해볼 것은 Linear Regression이 아니라, Neural Network를 한번 만들어 볼거에요. Neural Network는 앞서 ppt 자료에서 설명한것 과 같이 우리의 신경 구조를 모방해서 만들어낸 구조에요.\n",
    "\n",
    "저희는 그 중에서 Convolutional Neural Network라고 컴퓨터 비젼분야에서 굉장히 많이 쓰이는 방식을 이용해 볼거에요. 해석해보면 '합성곱 신경망' 인데, 간단히 행렬곱을 통해서 이미지에 통과하는 필터를 학습시키는 머신러닝 알고리즘입니다. 자세한건 방학때 알아보도록 해요.\n",
    "\n",
    "PyTorch의 torchvision에서는 MNIST 데이터를 쉽게 다운로드할 수 있도록 제공해요."
   ]
  },
  {
   "cell_type": "code",
   "execution_count": 1,
   "metadata": {},
   "outputs": [
    {
     "name": "stdout",
     "output_type": "stream",
     "text": [
      "Downloading http://yann.lecun.com/exdb/mnist/train-images-idx3-ubyte.gz to dataset/MNIST_data/MNIST/raw/train-images-idx3-ubyte.gz\n"
     ]
    },
    {
     "data": {
      "application/vnd.jupyter.widget-view+json": {
       "model_id": "01f937fcc4ba4f1ba20fb6ffaceb0183",
       "version_major": 2,
       "version_minor": 0
      },
      "text/plain": [
       "HBox(children=(IntProgress(value=1, bar_style='info', max=1), HTML(value='')))"
      ]
     },
     "metadata": {},
     "output_type": "display_data"
    },
    {
     "name": "stdout",
     "output_type": "stream",
     "text": [
      "Extracting dataset/MNIST_data/MNIST/raw/train-images-idx3-ubyte.gz to dataset/MNIST_data/MNIST/raw\n",
      "Downloading http://yann.lecun.com/exdb/mnist/train-labels-idx1-ubyte.gz to dataset/MNIST_data/MNIST/raw/train-labels-idx1-ubyte.gz\n"
     ]
    },
    {
     "data": {
      "application/vnd.jupyter.widget-view+json": {
       "model_id": "3c1065aa830c434194b3d12acc245c69",
       "version_major": 2,
       "version_minor": 0
      },
      "text/plain": [
       "HBox(children=(IntProgress(value=1, bar_style='info', max=1), HTML(value='')))"
      ]
     },
     "metadata": {},
     "output_type": "display_data"
    },
    {
     "name": "stdout",
     "output_type": "stream",
     "text": [
      "Extracting dataset/MNIST_data/MNIST/raw/train-labels-idx1-ubyte.gz to dataset/MNIST_data/MNIST/raw\n",
      "Downloading http://yann.lecun.com/exdb/mnist/t10k-images-idx3-ubyte.gz to dataset/MNIST_data/MNIST/raw/t10k-images-idx3-ubyte.gz\n",
      "\n"
     ]
    },
    {
     "data": {
      "application/vnd.jupyter.widget-view+json": {
       "model_id": "0f27bb22619745839364ce2d832d3ae7",
       "version_major": 2,
       "version_minor": 0
      },
      "text/plain": [
       "HBox(children=(IntProgress(value=1, bar_style='info', max=1), HTML(value='')))"
      ]
     },
     "metadata": {},
     "output_type": "display_data"
    },
    {
     "name": "stdout",
     "output_type": "stream",
     "text": [
      "Extracting dataset/MNIST_data/MNIST/raw/t10k-images-idx3-ubyte.gz to dataset/MNIST_data/MNIST/raw\n",
      "Downloading http://yann.lecun.com/exdb/mnist/t10k-labels-idx1-ubyte.gz to dataset/MNIST_data/MNIST/raw/t10k-labels-idx1-ubyte.gz\n"
     ]
    },
    {
     "data": {
      "application/vnd.jupyter.widget-view+json": {
       "model_id": "36d200da4c3944c09e3a1a68905eb501",
       "version_major": 2,
       "version_minor": 0
      },
      "text/plain": [
       "HBox(children=(IntProgress(value=1, bar_style='info', max=1), HTML(value='')))"
      ]
     },
     "metadata": {},
     "output_type": "display_data"
    },
    {
     "name": "stdout",
     "output_type": "stream",
     "text": [
      "Extracting dataset/MNIST_data/MNIST/raw/t10k-labels-idx1-ubyte.gz to dataset/MNIST_data/MNIST/raw\n",
      "Processing...\n",
      "Done!\n",
      "\n"
     ]
    },
    {
     "name": "stderr",
     "output_type": "stream",
     "text": [
      "/home/fylsunghwan/anaconda3/lib/python3.7/site-packages/torchvision/datasets/mnist.py:60: UserWarning: test_data has been renamed data\n",
      "  warnings.warn(\"test_data has been renamed data\")\n"
     ]
    },
    {
     "data": {
      "text/plain": [
       "<matplotlib.image.AxesImage at 0x7fa7999b4c90>"
      ]
     },
     "execution_count": 1,
     "metadata": {},
     "output_type": "execute_result"
    },
    {
     "name": "stdout",
     "output_type": "stream",
     "text": [
      "\n",
      "\n"
     ]
    }
   ],
   "source": [
    "import torchvision.datasets as dsets\n",
    "import torchvision.transforms as transforms\n",
    "import matplotlib.pyplot as plt\n",
    "\n",
    "mnist_train = dsets.MNIST(root=\"dataset/MNIST_data/\",\n",
    "                          train=True,\n",
    "                          transform=transforms.ToTensor(), \n",
    "                          download=True)\n",
    "mnist_test = dsets.MNIST(root=\"dataset/MNIST_data/\",\n",
    "                         train=False,\n",
    "                         transform=transforms.ToTensor(),\n",
    "                         download=True)\n",
    "\n",
    "plt.imshow(mnist_test.test_data[0].view(28, 28), cmap='Greys', interpolation='nearest')"
   ]
  },
  {
   "cell_type": "markdown",
   "metadata": {},
   "source": [
    "자, 그럼 이 이미지를 학습하기 위해선 새로운 모델을 만들어볼게요.  \n",
    "위에서 언급한 Convolutional Neural Network (합성 곱 신경망) 이라고 불리는 것을 활용해볼건데요, 이에 대한 자세한 내용은 방학때 알아보도록 하죠. 지금은 '이러이러한 모델'을 만들었는데, forward 함수에서 A 데이터를 이 레이어들을 거쳐서 B라는 값이 나오는구나! 정도만 아시면 될 것 같습니다."
   ]
  },
  {
   "cell_type": "code",
   "execution_count": 2,
   "metadata": {},
   "outputs": [],
   "source": [
    "import torch\n",
    "import torch.nn as nn\n",
    "\n",
    "class CNN(nn.Module): # 모델에 대한 내용은 방학때 자세히 알아보도록 해요.\n",
    "    def __init__(self):\n",
    "        super().__init__()\n",
    "        self.layer1 = nn.Sequential(\n",
    "            nn.Conv2d(1,32,kernel_size=3, stride=1, padding=1)\n",
    "        )\n",
    "        self.l1after = nn.Sequential(\n",
    "            nn.ReLU(),\n",
    "            nn.MaxPool2d(2)\n",
    "        )\n",
    "        self.layer2 = nn.Sequential(\n",
    "            nn.Conv2d(32,64, kernel_size=3, stride=1, padding=1)\n",
    "        )\n",
    "        self.l2after = nn.Sequential(\n",
    "            nn.ReLU(),\n",
    "            nn.MaxPool2d(2)\n",
    "        )\n",
    "        # 앞에서 본 fully-connected 레이어네요!\n",
    "        self.fc1 = nn.Linear(3136, 128, bias=True)\n",
    "        self.relu = nn.ReLU()\n",
    "        self.fc2 = nn.Linear(128,10,bias=True)\n",
    "        torch.nn.init.xavier_uniform_(self.fc1.weight)\n",
    "        torch.nn.init.xavier_uniform_(self.fc2.weight)        \n",
    "    \n",
    "    def forward(self, x):\n",
    "        out = self.l1after(self.layer1(x))\n",
    "        out = self.l2after(self.layer2(out))\n",
    "        out = out.view(out.size(0), -1)\n",
    "        out = self.relu(self.fc1(out))\n",
    "        out = self.fc2(out)\n",
    "        return out \n",
    "    \n",
    "    # 이 아래는 각 레이어가 무슨 역할을 하는지 알아보기 위해 만들었어요.\n",
    "    def firstconv(self, x):\n",
    "        return self.layer1(x)\n",
    "    \n",
    "    def secondconv(self, x):\n",
    "        out = self.l1after(self.layer1(x))\n",
    "        out = self.layer2(out)\n",
    "        return out"
   ]
  },
  {
   "cell_type": "markdown",
   "metadata": {},
   "source": [
    "PyTorch에서는 데이터셋을 다룰 때 굉장히 편리한 것이 있습니다.  \n",
    "바로 데이터를 불러올 때 사용하는 데이터로더를 제공한다는 점인데요,  \n",
    "이 데이터로더는 데이터를 무작위로 섞기도 하고, 배치들을 묶어서 더 빠른 속도로 학습을 할 수 있도록 도와줘요."
   ]
  },
  {
   "cell_type": "code",
   "execution_count": 3,
   "metadata": {},
   "outputs": [],
   "source": [
    "data_loader = torch.utils.data.DataLoader(dataset=mnist_train,\n",
    "                                         batch_size=64,\n",
    "                                         shuffle=True,\n",
    "                                         drop_last=True) # 데이터를 불러오기 위한 데이터로더입니다!"
   ]
  },
  {
   "cell_type": "markdown",
   "metadata": {},
   "source": [
    "PyTorch에서는 NVIDIA의 GPU를 연구용으로 사용하도록 해주는 CUDA를 정식으로 지원한압니다. CUDA는 다음과 같이 불러올 수 있습니다."
   ]
  },
  {
   "cell_type": "code",
   "execution_count": 4,
   "metadata": {},
   "outputs": [
    {
     "name": "stdout",
     "output_type": "stream",
     "text": [
      "지금 사용하고 있는 장치는 cuda 입니다.\n"
     ]
    }
   ],
   "source": [
    "device = 'cuda' if torch.cuda.is_available() else 'cpu' # gpu를 사용한다면 장치를 gpu로 바꾸어줍시다.\n",
    "print('지금 사용하고 있는 장치는',device,'입니다.')"
   ]
  },
  {
   "cell_type": "markdown",
   "metadata": {},
   "source": [
    "Convolutional Neural Network에서도 loss function으로는 CrossEntropy Loss를 사용합니다! 하지만 여기선 SGD 말고 특별한 optimizer를 사용해볼게요. Adam Optimizer는 SGD의 단점들을 보완하여서 더 빠르게 수렴하도록 만든 optimizer에요. 이에 대한 자세한 내용도 방학때 다루어보도록 해요."
   ]
  },
  {
   "cell_type": "code",
   "execution_count": 5,
   "metadata": {},
   "outputs": [],
   "source": [
    "model = CNN().to(device)\n",
    "criterion = nn.CrossEntropyLoss().to(device) #여기서는 Cross Entropy라는것을 loss function으로 사용합니다!\n",
    "optimizer = torch.optim.Adam(model.parameters(), lr=0.001)"
   ]
  },
  {
   "cell_type": "markdown",
   "metadata": {},
   "source": [
    "본격적으로 학습을 진행해보도록 할게요."
   ]
  },
  {
   "cell_type": "code",
   "execution_count": 6,
   "metadata": {},
   "outputs": [
    {
     "name": "stdout",
     "output_type": "stream",
     "text": [
      "Accuracy:  9.449999779462814 %\n"
     ]
    }
   ],
   "source": [
    "import numpy as np\n",
    "def print_acc():\n",
    "    with torch.no_grad():\n",
    "        X_test = mnist_test.test_data.view(len(mnist_test), 1, 28, 28).float().to(device)\n",
    "        Y_test = mnist_test.targets.to(device)\n",
    "\n",
    "        prediction = model(X_test)\n",
    "        correct_prediction = torch.argmax(prediction, 1) == Y_test\n",
    "        accuracy = correct_prediction.float().mean()\n",
    "        print('Accuracy: ',accuracy.item()*100,\"%\")\n",
    "        \n",
    "# util function to convert a tensor into a valid image\n",
    "def deprocess_image(x):\n",
    "    # normalize tensor: center on 0., ensure std is 0.1\n",
    "    x -= x.mean()\n",
    "    x /= (x.std() + 1e-5)\n",
    "    x *= 0.1\n",
    "\n",
    "    # clip to [0, 1]\n",
    "    x += 0.5\n",
    "    x = np.clip(x, 0, 1)\n",
    "\n",
    "    # convert to RGB array\n",
    "    x *= 255\n",
    "    #x = x.transpose((1, 2, 0))\n",
    "    x = np.clip(x, 0, 255).astype('uint8')\n",
    "    return x\n",
    "\n",
    "def firstlayer():\n",
    "    test_image = mnist_test.test_data[0].view(1,1,28, 28).to(device).float()\n",
    "    firstconv = model.firstconv(test_image)[0].cpu().detach().numpy()\n",
    "\n",
    "    plot_x = 6\n",
    "    plot_y = 5\n",
    "\n",
    "    img = test_image.cpu().detach().numpy()\n",
    "    fig, ax = plt.subplots(plot_x, plot_y, figsize = (12, 12))\n",
    "    ax[0, 0].imshow(img.reshape((28, 28)), cmap = 'gray')\n",
    "    ax[0, 0].set_title('Input image')\n",
    "    fig.suptitle('First Convolution Layer')\n",
    "    fig.tight_layout(pad = 0.3, rect = [0, 0, 0.9, 0.9])\n",
    "    for (x, y) in [(i, j) for i in range(plot_x) for j in range(plot_y)]:\n",
    "        if x == 0 and y == 0:\n",
    "            continue\n",
    "        ax[x, y].imshow(firstconv[x * plot_y + y - 1], cmap = 'gray')\n",
    "        ax[x, y].set_title('filter %d' % (x * plot_y + y - 1))\n",
    "\n",
    "    plt.imshow(deprocess_image(firstconv)[0], cmap='gray')\n",
    "\n",
    "def secondlayer():\n",
    "    plot_x = 6\n",
    "    plot_y = 5\n",
    "    test_image = mnist_test.test_data[0].view(1,1,28, 28).to(device).float()\n",
    "    secondconv = model.secondconv(test_image)[0].cpu().detach().numpy()\n",
    "    img = test_image.cpu().detach().numpy()\n",
    "    fig, ax = plt.subplots(plot_x, plot_y, figsize = (12, 12))\n",
    "    ax[0, 0].imshow(img.reshape((28, 28)), cmap = 'gray')\n",
    "    ax[0, 0].set_title('Input image')\n",
    "    fig.suptitle('Second Convolution Layer')\n",
    "    fig.tight_layout(pad = 0.3, rect = [0, 0, 0.9, 0.9])\n",
    "    for (x, y) in [(i, j) for i in range(plot_x) for j in range(plot_y)]:\n",
    "        if x == 0 and y == 0:\n",
    "            continue\n",
    "        ax[x, y].imshow(secondconv[x * plot_y + y - 1], cmap = 'gray')\n",
    "        ax[x, y].set_title('filter %d' % (x * plot_y + y - 1))\n",
    "\n",
    "    plt.imshow(deprocess_image(secondconv)[0], cmap='gray')\n",
    "\n",
    "print_acc()"
   ]
  },
  {
   "cell_type": "code",
   "execution_count": 7,
   "metadata": {},
   "outputs": [
    {
     "name": "stdout",
     "output_type": "stream",
     "text": [
      "학습이 시작되었습니다.\n",
      "Epoch:01 loss = 0.14431443810462952\n",
      "Epoch:02 loss = 0.04270428419113159\n",
      "Epoch:03 loss = 0.02973984368145466\n",
      "Epoch:04 loss = 0.022411251440644264\n",
      "Epoch:05 loss = 0.01570213958621025\n",
      "Epoch:06 loss = 0.013064664788544178\n",
      "Epoch:07 loss = 0.010453849099576473\n",
      "Epoch:08 loss = 0.008073139004409313\n",
      "Epoch:09 loss = 0.007602115161716938\n",
      "Epoch:10 loss = 0.005552827846258879\n",
      "Epoch:11 loss = 0.005763811990618706\n",
      "Epoch:12 loss = 0.004985730163753033\n",
      "Epoch:13 loss = 0.0034191652666777372\n",
      "Epoch:14 loss = 0.004830934572964907\n",
      "Epoch:15 loss = 0.00176957284566015\n",
      "학습이 종료되었습니다.\n"
     ]
    },
    {
     "data": {
      "text/plain": [
       "[<matplotlib.lines.Line2D at 0x7fa798080210>]"
      ]
     },
     "execution_count": 7,
     "metadata": {},
     "output_type": "execute_result"
    },
    {
     "data": {
      "image/png": "[encoded data removed]",
      "text/plain": [
       "<Figure size 432x288 with 1 Axes>"
      ]
     },
     "metadata": {
      "needs_background": "light"
     },
     "output_type": "display_data"
    }
   ],
   "source": [
    "total_batch = len(data_loader)\n",
    "losses = []\n",
    "epochs = 15\n",
    "print('학습이 시작되었습니다.')\n",
    "\n",
    "for epoch in range(epochs):\n",
    "    avg_loss=0\n",
    "    for X_data, Y_data in data_loader:\n",
    "        X_data = X_data.to(device)\n",
    "        Y_data = Y_data.to(device)\n",
    "        \n",
    "        optimizer.zero_grad()\n",
    "        hypothesis = model(X_data)\n",
    "        \n",
    "        loss = criterion(hypothesis, Y_data)\n",
    "        loss.backward()\n",
    "        optimizer.step()\n",
    "        \n",
    "        losses.append(loss)\n",
    "        avg_loss += loss/total_batch\n",
    "    print('Epoch:{:02d} loss = {}'.format(epoch+1, avg_loss))\n",
    "print('학습이 종료되었습니다.')\n",
    "plt.plot(losses)\n",
    "    "
   ]
  },
  {
   "cell_type": "code",
   "execution_count": 8,
   "metadata": {},
   "outputs": [
    {
     "name": "stdout",
     "output_type": "stream",
     "text": [
      "Accuracy:  97.77999520301819 %\n"
     ]
    }
   ],
   "source": [
    "print_acc()"
   ]
  }
 ],
 "metadata": {
  "kernelspec": {
   "display_name": "Python 3",
   "language": "python",
   "name": "python3"
  },
  "language_info": {
   "codemirror_mode": {
    "name": "ipython",
    "version": 3
   },
   "file_extension": ".py",
   "mimetype": "text/x-python",
   "name": "python",
   "nbconvert_exporter": "python",
   "pygments_lexer": "ipython3",
   "version": "3.7.4"
  }
 },
 "nbformat": 4,
 "nbformat_minor": 4
}

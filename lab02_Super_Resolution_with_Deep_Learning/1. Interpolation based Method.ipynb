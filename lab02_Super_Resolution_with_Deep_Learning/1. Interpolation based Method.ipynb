{
 "cells": [
  {
   "cell_type": "markdown",
   "metadata": {},
   "source": [
    "## Super Resolution with Deep Learning\n",
    "\n",
    "### Interpolation based method\n",
    "Interpolation(보간법)은 앞서 ppt 내용에서 보았던 것처럼 다음과 같습니다.\n",
    ">보간법(補間法, interpolation)은 끝점의 값이 주어졌을 때 그 사이에 위치한 값을 추정하기 위하여 모종의 방법을 통해 수많은 점들을 평균내는 방법을 말한다.  \n",
    "\n",
    "흔히 다운받은 이미지를 그림판같은 이미지 편집 프로그램으로 이미지를 크게 키웠을 때 이미지가 뿌옇게 변하는 경우가 있죠.  \n",
    "이 방식이 바로 'interpolation', 한국어로 보간법이라 불리는 방식입니다.  \n",
    "\n",
    "Interpolation 방식의 Super Resolution은 예전부터 Learning-based 방식의 Super Resolution 기법이 등장하기 전에는 많이 연구가 되었었습니다.  \n",
    "하지만, Interpolation-based 방식은 이미지의 정보량을 떨어뜨린다는 큰 단점이 있습니다.  \n",
    "지금부터 이 Interpolation을 직접 한번 구현해보겠습니다!"
   ]
  },
  {
   "cell_type": "code",
   "execution_count": 1,
   "metadata": {},
   "outputs": [
    {
     "name": "stdout",
     "output_type": "stream",
     "text": [
      "'CV_2020'에 복제합니다...\n",
      "remote: Enumerating objects: 14, done.\u001b[K\n",
      "remote: Counting objects: 100% (14/14), done.\u001b[K\n",
      "remote: Compressing objects: 100% (10/10), done.\u001b[K\n",
      "remote: Total 122 (delta 6), reused 11 (delta 3), pack-reused 108\u001b[K\n",
      "오브젝트를 받는 중: 100% (122/122), 49.10 MiB | 2.77 MiB/s, 완료.\n",
      "델타를 알아내는 중: 100% (54/54), 완료.\n",
      "numpy\n",
      "matplotlib\n",
      "torch\n",
      "torchvision\n",
      "pillow\n",
      "\n",
      "위는 우리가 오늘 사용해볼 패키지들 목록입니다!\n",
      "----------------------------------\n",
      "Requirement already satisfied: numpy in /home/fylsunghwan/anaconda3/lib/python3.7/site-packages (from -r CV_2020/lab02_Super_Resolution_with_Deep_Learning/requirements.txt (line 1)) (1.17.2)\n",
      "Requirement already satisfied: matplotlib in /home/fylsunghwan/anaconda3/lib/python3.7/site-packages (from -r CV_2020/lab02_Super_Resolution_with_Deep_Learning/requirements.txt (line 2)) (3.1.1)\n",
      "Requirement already satisfied: torch in /home/fylsunghwan/anaconda3/lib/python3.7/site-packages (from -r CV_2020/lab02_Super_Resolution_with_Deep_Learning/requirements.txt (line 3)) (1.4.0)\n",
      "Requirement already satisfied: torchvision in /home/fylsunghwan/anaconda3/lib/python3.7/site-packages (from -r CV_2020/lab02_Super_Resolution_with_Deep_Learning/requirements.txt (line 4)) (0.5.0)\n",
      "Requirement already satisfied: pillow in /home/fylsunghwan/anaconda3/lib/python3.7/site-packages (from -r CV_2020/lab02_Super_Resolution_with_Deep_Learning/requirements.txt (line 5)) (6.2.0)\n",
      "Requirement already satisfied: cycler>=0.10 in /home/fylsunghwan/anaconda3/lib/python3.7/site-packages (from matplotlib->-r CV_2020/lab02_Super_Resolution_with_Deep_Learning/requirements.txt (line 2)) (0.10.0)\n",
      "Requirement already satisfied: kiwisolver>=1.0.1 in /home/fylsunghwan/anaconda3/lib/python3.7/site-packages (from matplotlib->-r CV_2020/lab02_Super_Resolution_with_Deep_Learning/requirements.txt (line 2)) (1.1.0)\n",
      "Requirement already satisfied: pyparsing!=2.0.4,!=2.1.2,!=2.1.6,>=2.0.1 in /home/fylsunghwan/anaconda3/lib/python3.7/site-packages (from matplotlib->-r CV_2020/lab02_Super_Resolution_with_Deep_Learning/requirements.txt (line 2)) (2.4.2)\n",
      "Requirement already satisfied: python-dateutil>=2.1 in /home/fylsunghwan/anaconda3/lib/python3.7/site-packages (from matplotlib->-r CV_2020/lab02_Super_Resolution_with_Deep_Learning/requirements.txt (line 2)) (2.8.0)\n",
      "Requirement already satisfied: six in /home/fylsunghwan/anaconda3/lib/python3.7/site-packages (from torchvision->-r CV_2020/lab02_Super_Resolution_with_Deep_Learning/requirements.txt (line 4)) (1.12.0)\n",
      "Requirement already satisfied: setuptools in /home/fylsunghwan/anaconda3/lib/python3.7/site-packages (from kiwisolver>=1.0.1->matplotlib->-r CV_2020/lab02_Super_Resolution_with_Deep_Learning/requirements.txt (line 2)) (41.4.0)\n",
      "\n",
      "----------------------------------\n"
     ]
    }
   ],
   "source": [
    "# 필요한 패키지 (인생을 편하게 해주는 미리 만들어놓은 프로그램이라고 보면 된다) 를 설치시킨다\n",
    "!git clone https://github.com/HanyangTechAI/CV_2020.git\n",
    "!cat CV_2020/lab02_Super_Resolution_with_Deep_Learning/requirements.txt\n",
    "!echo '\\n위는 우리가 오늘 사용해볼 패키지들 목록입니다!'\n",
    "!echo '----------------------------------'\n",
    "!pip install -r CV_2020/lab02_Super_Resolution_with_Deep_Learning/requirements.txt\n",
    "!echo '\\n----------------------------------'"
   ]
  },
  {
   "cell_type": "markdown",
   "metadata": {},
   "source": [
    "##### 이미지 불러오기    \n",
    "Python 라이브러리 Pillow는 이미지를 다루기 위한 라이브러리입니다.  \n",
    "Pillow에서는 위에서 말한 Interpolation을 쉽게 할 수 있도록 제공합니다!  \n",
    "먼저 미이지를 한번 띄워볼게요."
   ]
  },
  {
   "cell_type": "code",
   "execution_count": 2,
   "metadata": {},
   "outputs": [
    {
     "name": "stdout",
     "output_type": "stream",
     "text": [
      "Enviroment is not Google Colab.\n",
      "Trying to load test.jpg\n"
     ]
    },
    {
     "data": {
      "text/plain": [
       "<matplotlib.image.AxesImage at 0x7f1be75b6710>"
      ]
     },
     "execution_count": 2,
     "metadata": {},
     "output_type": "execute_result"
    }
   ],
   "source": [
    "import numpy as np\n",
    "import matplotlib.pyplot as plt\n",
    "from PIL import Image\n",
    "\n",
    "filename = 'test.png'\n",
    "\n",
    "try:\n",
    "    from google.colab import files\n",
    "    uploaded = files.upload()\n",
    "\n",
    "    files = uploaded.keys()\n",
    "    filename = None\n",
    "    for name in files:\n",
    "      filename = name\n",
    "      break\n",
    "except:\n",
    "    print('Enviroment is not Google Colab.\\nTrying to load test.jpg')\n",
    "\n",
    "img = Image.open(filename)\n",
    "plt.imshow(img)"
   ]
  },
  {
   "cell_type": "markdown",
   "metadata": {},
   "source": [
    "이미지의 크기는 다음과 같이 불러올 수 있어요."
   ]
  },
  {
   "cell_type": "code",
   "execution_count": 3,
   "metadata": {},
   "outputs": [
    {
     "name": "stdout",
     "output_type": "stream",
     "text": [
      "width: 550 height: 550\n"
     ]
    }
   ],
   "source": [
    "print(\"width:\", img.size[0], \"height:\", img.size[1])"
   ]
  },
  {
   "cell_type": "markdown",
   "metadata": {},
   "source": [
    "이미지를 흑백이미지로 바꾸어볼까요?"
   ]
  },
  {
   "cell_type": "code",
   "execution_count": 4,
   "metadata": {},
   "outputs": [
    {
     "data": {
      "image/png": "[encoded data removed]",
      "text/plain": [
       "<PIL.Image.Image image mode=LA size=550x550 at 0x7F1BE75924D0>"
      ]
     },
     "execution_count": 4,
     "metadata": {},
     "output_type": "execute_result"
    }
   ],
   "source": [
    "img.convert('LA')"
   ]
  },
  {
   "cell_type": "markdown",
   "metadata": {},
   "source": [
    "이미지의 크기는 `Resize` 로 바꿀 수 있습니다."
   ]
  },
  {
   "cell_type": "code",
   "execution_count": 5,
   "metadata": {},
   "outputs": [
    {
     "data": {
      "image/png": "[encoded data removed]",
      "text/plain": [
       "<PIL.Image.Image image mode=RGBA size=275x275 at 0x7F1BE759DCD0>"
      ]
     },
     "execution_count": 5,
     "metadata": {},
     "output_type": "execute_result"
    }
   ],
   "source": [
    "img.resize((img.size[0]//2,img.size[1]//2))"
   ]
  },
  {
   "cell_type": "markdown",
   "metadata": {},
   "source": [
    "#### 1. Nearest Neighbor Interpolation\n",
    "최근접 이웃 보간법은 말그대로 현재 위치에서 가장 가까운 픽셀의 값을 그대로 사용한다는 보간법입니다.  \n",
    "그냥 가장 가까운 픽셀에서 불러오는 작업이기 때문에 연산량이 적다는 장점이 있습니다.  \n",
    "하지만, 테두리와 같은 부분은 깨진다는 점이 있습니다.  \n",
    "그럼 한번 해볼까요?"
   ]
  },
  {
   "cell_type": "code",
   "execution_count": 6,
   "metadata": {},
   "outputs": [
    {
     "data": {
      "text/plain": [
       "<matplotlib.image.AxesImage at 0x7f1be7565550>"
      ]
     },
     "execution_count": 6,
     "metadata": {},
     "output_type": "execute_result"
    },
    {
     "data": {
      "image/png": "[encoded data removed]",
      "text/plain": [
       "<Figure size 432x288 with 1 Axes>"
      ]
     },
     "metadata": {
      "needs_background": "light"
     },
     "output_type": "display_data"
    }
   ],
   "source": [
    "plt.imshow(img.resize((img.size[0]//8, img.size[1]//8), Image.NEAREST))"
   ]
  },
  {
   "cell_type": "code",
   "execution_count": 7,
   "metadata": {},
   "outputs": [
    {
     "data": {
      "text/plain": [
       "(68, 68)"
      ]
     },
     "execution_count": 7,
     "metadata": {},
     "output_type": "execute_result"
    }
   ],
   "source": [
    "img.resize((img.size[0]//8, img.size[1]//8), Image.NEAREST).size"
   ]
  },
  {
   "cell_type": "markdown",
   "metadata": {},
   "source": [
    "다른 방식으로도 해볼게요."
   ]
  },
  {
   "cell_type": "markdown",
   "metadata": {},
   "source": [
    "#### 2.Linear Interpolation\n",
    "Linear Interpolation은 그 픽셀과 다른 픽셀과의 거리비를 이용하여서 픽셀의 평균값을 구해냅니다.  \n",
    "일반적인 Linear Interpolation은 그 이미지의 x축만 가지고 예측하는데 반해,  \n",
    "Bilinear Interpolation은 x축과 y축 모두의 거리를 가지고 예측합니다."
   ]
  },
  {
   "cell_type": "code",
   "execution_count": 8,
   "metadata": {},
   "outputs": [
    {
     "data": {
      "text/plain": [
       "<matplotlib.image.AxesImage at 0x7f1be74e8490>"
      ]
     },
     "execution_count": 8,
     "metadata": {},
     "output_type": "execute_result"
    },
    {
     "data": {
      "image/png": "[encoded data removed]",
      "text/plain": [
       "<Figure size 432x288 with 1 Axes>"
      ]
     },
     "metadata": {
      "needs_background": "light"
     },
     "output_type": "display_data"
    }
   ],
   "source": [
    "plt.imshow(img.resize((img.size[0]//8, img.size[1]//8), Image.BILINEAR))"
   ]
  },
  {
   "cell_type": "markdown",
   "metadata": {},
   "source": [
    "#### 3.Bicubic Interpolation\n",
    "Cubic Interpolation은 주변의 16개의 픽셀에서 거리에 따른 가중치를 제곱 및 세제곱 식을 통해서 이미지의 평균값을 구해냅니다.  \n",
    "Bicubic은 그 이름에서도 알 수 있듯이 이 작업을 x축과 y축 모두에 적용시키는 방식입니다.  "
   ]
  },
  {
   "cell_type": "code",
   "execution_count": 9,
   "metadata": {},
   "outputs": [
    {
     "data": {
      "text/plain": [
       "<matplotlib.image.AxesImage at 0x7f1be744cc50>"
      ]
     },
     "execution_count": 9,
     "metadata": {},
     "output_type": "execute_result"
    },
    {
     "data": {
      "image/png": "[encoded data removed]",
      "text/plain": [
       "<Figure size 432x288 with 1 Axes>"
      ]
     },
     "metadata": {
      "needs_background": "light"
     },
     "output_type": "display_data"
    }
   ],
   "source": [
    "plt.imshow(img.resize((img.size[0]//8, img.size[1]//8), Image.BICUBIC))"
   ]
  }
 ],
 "metadata": {
  "kernelspec": {
   "display_name": "Python 3",
   "language": "python",
   "name": "python3"
  },
  "language_info": {
   "codemirror_mode": {
    "name": "ipython",
    "version": 3
   },
   "file_extension": ".py",
   "mimetype": "text/x-python",
   "name": "python",
   "nbconvert_exporter": "python",
   "pygments_lexer": "ipython3",
   "version": "3.7.4"
  }
 },
 "nbformat": 4,
 "nbformat_minor": 4
}
